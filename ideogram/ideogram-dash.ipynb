{
 "cells": [
  {
   "cell_type": "code",
   "execution_count": 1,
   "id": "4869cf35-0018-429b-92e8-4fdb2c3efecd",
   "metadata": {},
   "outputs": [],
   "source": [
    "import dash\n",
    "from dash.dependencies import Input, Output\n",
    "import dash_bio as dashbio\n",
    "from dash import html, dcc"
   ]
  },
  {
   "cell_type": "code",
   "execution_count": null,
   "id": "170946a1-ea4e-4db9-8636-89dcdeb971aa",
   "metadata": {},
   "outputs": [],
   "source": []
  },
  {
   "cell_type": "code",
   "execution_count": null,
   "id": "8528a03e-c360-4e1c-bd07-6e2c23e085b7",
   "metadata": {},
   "outputs": [
    {
     "name": "stdout",
     "output_type": "stream",
     "text": [
      "Dash is running on http://127.0.0.1:8050/\n",
      "\n",
      " * Serving Flask app '__main__' (lazy loading)\n",
      " * Environment: production\n",
      "\u001b[31m   WARNING: This is a development server. Do not use it in a production deployment.\u001b[0m\n",
      "\u001b[2m   Use a production WSGI server instead.\u001b[0m\n",
      " * Debug mode: off\n"
     ]
    },
    {
     "name": "stderr",
     "output_type": "stream",
     "text": [
      " * Running on http://127.0.0.1:8050/ (Press CTRL+C to quit)\n",
      "127.0.0.1 - - [19/Sep/2022 16:35:03] \"GET / HTTP/1.1\" 200 -\n",
      "127.0.0.1 - - [19/Sep/2022 16:35:03] \"GET /_dash-layout HTTP/1.1\" 200 -\n",
      "127.0.0.1 - - [19/Sep/2022 16:35:03] \"GET /_dash-dependencies HTTP/1.1\" 200 -\n"
     ]
    }
   ],
   "source": [
    "app = dash.Dash(__name__)\n",
    "\n",
    "app.layout = html.Div([\n",
    "    'Select which chromosomes to display on the ideogram below:',\n",
    "#    dcc.Dropdown(\n",
    "#        id='dash-chromosomes',\n",
    "#        options=[{'label': str(i), 'value': str(i)} for i in range(1, 23)],\n",
    "#        multi=True,\n",
    "#        value=[str(i) for i in range(1, 23)]\n",
    "#    ),\n",
    "    dashbio.Ideogram(\n",
    "        id='dashbio-ideogram',\n",
    "        chrHeight=600,\n",
    "        chrWidth=20,\n",
    "        dataDir='https://aedawid.github.io/database/',\n",
    "        organism=\"custom-2\",\n",
    "        annotationsPath='https://eweitz.github.io/ideogram/data/annotations/SRR562646.json',\n",
    "        chromosomes=['X', 'Y'],\n",
    "#        rotatable=True,\n",
    "#        orientation='vertical',\n",
    "#        brush='chrX:1-10000000'\n",
    "    ),\n",
    "    html.Div(id='my-default-ideogram-rotated')\n",
    "])\n",
    "\n",
    "@app.callback(\n",
    "    Output('dashbio-ideogram', 'chromosomes'),\n",
    "    Input('dash-chromosomes', 'value')\n",
    ")\n",
    "def update_ideogram(value):\n",
    "    return value\n",
    "\n",
    "app.run_server(debug=False)"
   ]
  },
  {
   "cell_type": "code",
   "execution_count": null,
   "id": "d9d4a6fc-f6a8-4871-90e7-4e90e1fe7e7c",
   "metadata": {},
   "outputs": [],
   "source": []
  }
 ],
 "metadata": {
  "kernelspec": {
   "display_name": "Python 3 (ipykernel)",
   "language": "python",
   "name": "python3"
  },
  "language_info": {
   "codemirror_mode": {
    "name": "ipython",
    "version": 3
   },
   "file_extension": ".py",
   "mimetype": "text/x-python",
   "name": "python",
   "nbconvert_exporter": "python",
   "pygments_lexer": "ipython3",
   "version": "3.9.0"
  }
 },
 "nbformat": 4,
 "nbformat_minor": 5
}
